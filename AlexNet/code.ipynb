{
 "cells": [
  {
   "cell_type": "code",
   "execution_count": 1,
   "metadata": {},
   "outputs": [],
   "source": [
    "import torch \n",
    "import torch.nn as nn"
   ]
  },
  {
   "cell_type": "code",
   "execution_count": 9,
   "metadata": {},
   "outputs": [],
   "source": [
    "class AlexNet(nn.Module):\n",
    "    def __init__(self):\n",
    "        super().__init__()\n",
    "        self.c1 = nn.Conv2d(in_channels=3, out_channels=96, kernel_size=11, stride=4, padding=0)\n",
    "        self.c2 = nn.Conv2d(in_channels=96, out_channels=256, kernel_size=5, stride=1, padding=2)\n",
    "        self.c3 = nn.Conv2d(in_channels=256, out_channels=384, kernel_size=3, stride=1, padding=1)\n",
    "        self.c4 = nn.Conv2d(in_channels=384, out_channels=384, kernel_size=3, stride=1, padding=1)\n",
    "        self.c5 = nn.Conv2d(in_channels=384, out_channels=256, kernel_size=3, stride=1, padding=1)\n",
    "\n",
    "        self.fc1 = nn.Linear(6*6*256, 4096)\n",
    "        self.fc2 = nn.Linear(4096, 4096)\n",
    "        self.fc3 = nn.Linear(4096, 1000)\n",
    "\n",
    "        self.localnorm = nn.LocalResponseNorm(size=5)\n",
    "        self.maxpool = nn.MaxPool2d(kernel_size=3, stride=2)\n",
    "        self.relu = nn.ReLU(inplace=True)\n",
    "        self.dropout = nn.Dropout(0.5)\n",
    "\n",
    "        self.init_weight()\n",
    "\n",
    "    def forward(self, x):\n",
    "        # x shape: [batch, 3, 227, 227]\n",
    "        x = self.relu(self.c1(x))\n",
    "        # x shape: [batch, 96, 55, 55]\n",
    "        x = self.maxpool(self.localnorm(x))\n",
    "        # x shape: [batch, 96, 27, 27]\n",
    "        x = self.relu(self.c2(x))\n",
    "        # x shape: [batch, 256, 27, 27]\n",
    "        x = self.maxpool(self.localnorm(x))\n",
    "        # x shape: [batch, 256, 13, 13]\n",
    "        x = self.relu(self.c3(x))\n",
    "        # x shape: [batch, 384, 13, 13]\n",
    "        x = self.relu(self.c4(x))\n",
    "        # x shape: [batch, 384, 13, 13]\n",
    "        x = self.maxpool(self.relu(self.c5(x)))\n",
    "        # x shape: [batch, 256, 6, 6]\n",
    "        x = torch.flatten(x,1)\n",
    "        # x shape: [batch, 256*6*6]\n",
    "        x = self.relu(self.dropout(self.fc1(x)))\n",
    "        # x shape: [batch, 4096]\n",
    "        x = self.relu(self.dropout(self.fc2(x)))\n",
    "        # x shape: [batch, 4096]\n",
    "        x = self.fc3(x)\n",
    "        # x shape: [batch, classes]\n",
    "        return x\n",
    "    \n",
    "    def init_weight(self):\n",
    "        bias = [1,3,4,5,6,7]\n",
    "        for i,layer in enumerate(self.modules()):\n",
    "            if isinstance(layer, nn.Conv2d) or isinstance(layer, nn.Linear):\n",
    "                if i in bias:\n",
    "                    nn.init.constant_(layer.bias, 1)\n",
    "                else:\n",
    "                    nn.init.constant_(layer.bias, 0)\n",
    "                \n",
    "                nn.init.normal_(layer.weight, mean=0, std=0.01)"
   ]
  },
  {
   "cell_type": "code",
   "execution_count": 11,
   "metadata": {},
   "outputs": [
    {
     "name": "stdout",
     "output_type": "stream",
     "text": [
      "torch.Size([1, 96, 55, 55])\n",
      "torch.Size([1, 1000])\n"
     ]
    }
   ],
   "source": [
    "net = AlexNet()\n",
    "print(net(torch.rand(1,3,227,227)).shape)"
   ]
  },
  {
   "cell_type": "code",
   "execution_count": 12,
   "metadata": {},
   "outputs": [
    {
     "name": "stdout",
     "output_type": "stream",
     "text": [
      "AlexNet(\n",
      "  (c1): Conv2d(3, 96, kernel_size=(11, 11), stride=(4, 4))\n",
      "  (c2): Conv2d(96, 256, kernel_size=(5, 5), stride=(1, 1), padding=(2, 2))\n",
      "  (c3): Conv2d(256, 384, kernel_size=(3, 3), stride=(1, 1), padding=(1, 1))\n",
      "  (c4): Conv2d(384, 384, kernel_size=(3, 3), stride=(1, 1), padding=(1, 1))\n",
      "  (c5): Conv2d(384, 256, kernel_size=(3, 3), stride=(1, 1), padding=(1, 1))\n",
      "  (fc1): Linear(in_features=9216, out_features=4096, bias=True)\n",
      "  (fc2): Linear(in_features=4096, out_features=4096, bias=True)\n",
      "  (fc3): Linear(in_features=4096, out_features=1000, bias=True)\n",
      "  (localnorm): LocalResponseNorm(5, alpha=0.0001, beta=0.75, k=1.0)\n",
      "  (maxpool): MaxPool2d(kernel_size=3, stride=2, padding=0, dilation=1, ceil_mode=False)\n",
      "  (relu): ReLU(inplace=True)\n",
      "  (dropout): Dropout(p=0.5, inplace=False)\n",
      ")\n"
     ]
    }
   ],
   "source": [
    "print(net)"
   ]
  },
  {
   "cell_type": "code",
   "execution_count": null,
   "metadata": {},
   "outputs": [],
   "source": []
  }
 ],
 "metadata": {
  "kernelspec": {
   "display_name": "Python 3",
   "language": "python",
   "name": "python3"
  },
  "language_info": {
   "codemirror_mode": {
    "name": "ipython",
    "version": 3
   },
   "file_extension": ".py",
   "mimetype": "text/x-python",
   "name": "python",
   "nbconvert_exporter": "python",
   "pygments_lexer": "ipython3",
   "version": "3.9.13"
  },
  "orig_nbformat": 4,
  "vscode": {
   "interpreter": {
    "hash": "1aed19a748faa6ee078c05db49cf0671f4c6316635f35816d0dd9ae71d38b4ce"
   }
  }
 },
 "nbformat": 4,
 "nbformat_minor": 2
}
